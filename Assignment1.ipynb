{
 "cells": [
  {
   "cell_type": "markdown",
   "id": "79391073-bfb1-4adf-85e7-c344f884e7d5",
   "metadata": {},
   "source": [
    "# python basics variables"
   ]
  },
  {
   "cell_type": "code",
   "execution_count": 10,
   "id": "491cb862-7b5c-4d8a-945c-2c77e0a47392",
   "metadata": {
    "tags": []
   },
   "outputs": [
    {
     "name": "stdout",
     "output_type": "stream",
     "text": [
      "before swapping: \n",
      "value of x:  10  and value of y:  20\n",
      "after swapping: \n",
      "value of x:  20  and value of y: 10\n"
     ]
    }
   ],
   "source": [
    "#swapping the two variables\n",
    "x=10\n",
    "y=20\n",
    "print(\"before swapping: \")\n",
    "print(\"value of x: \",x,\" and value of y: \",y,)\n",
    "#code to swap 'x' andx 'y' \n",
    "x,y=y,x\n",
    "print(\"after swapping: \")\n",
    "print(\"value of x: \",x,\" and value of y:\",y,)\n"
   ]
  },
  {
   "cell_type": "code",
   "execution_count": 3,
   "id": "47d07eb9-766b-4745-815e-e83bc55c06de",
   "metadata": {},
   "outputs": [
    {
     "name": "stdin",
     "output_type": "stream",
     "text": [
      " 15\n"
     ]
    }
   ],
   "source": [
    "#AREA OF RECTANGLE\n",
    "l=int(input())"
   ]
  },
  {
   "cell_type": "code",
   "execution_count": 4,
   "id": "30d9b979-4f7d-431b-a3e2-a3e3580b15cc",
   "metadata": {},
   "outputs": [
    {
     "name": "stdin",
     "output_type": "stream",
     "text": [
      " 20\n"
     ]
    }
   ],
   "source": [
    "b=int(input())"
   ]
  },
  {
   "cell_type": "code",
   "execution_count": 7,
   "id": "0897168e-994a-4cdd-a6b7-16b0b12e3883",
   "metadata": {},
   "outputs": [
    {
     "name": "stdout",
     "output_type": "stream",
     "text": [
      "rectanglearea= 300\n"
     ]
    }
   ],
   "source": [
    "#area of rectangle =l*b\n",
    "rectanglearea=l*b\n",
    "print(\"rectanglearea=\",rectanglearea)\n"
   ]
  },
  {
   "cell_type": "code",
   "execution_count": 11,
   "id": "2bceb4f5-4bad-465a-9a5c-6f66f4c5b03f",
   "metadata": {},
   "outputs": [
    {
     "name": "stdout",
     "output_type": "stream",
     "text": [
      "celsius: 42 equal to fahrenheit: 107.60000000000001\n"
     ]
    }
   ],
   "source": [
    "#celsius to fahrenheit\n",
    "celsius =42\n",
    "fahrenheit=(celsius * 1.8) + 32\n",
    "print(\"celsius:\",celsius,\"equal to fahrenheit:\",fahrenheit)"
   ]
  },
  {
   "cell_type": "code",
   "execution_count": null,
   "id": "0c8f1ce8-6f04-4e16-9198-dcd0b17416cc",
   "metadata": {},
   "outputs": [],
   "source": []
  },
  {
   "cell_type": "code",
   "execution_count": null,
   "id": "05af0f88-21cd-4d73-9f25-00b6dd26541c",
   "metadata": {},
   "outputs": [],
   "source": []
  },
  {
   "cell_type": "markdown",
   "id": "994cfef7-4d70-4083-b58c-6bcad90956d8",
   "metadata": {},
   "source": [
    "# string based questions"
   ]
  },
  {
   "cell_type": "code",
   "execution_count": 10,
   "id": "34dd4fde-660b-4181-8b1e-12e9ab765521",
   "metadata": {},
   "outputs": [
    {
     "name": "stdout",
     "output_type": "stream",
     "text": [
      "12\n"
     ]
    }
   ],
   "source": [
    "#length of the string\n",
    "str=\"vishakakutty\"\n",
    "print(len(str))"
   ]
  },
  {
   "cell_type": "code",
   "execution_count": 9,
   "id": "472a430e-90ce-4445-97c9-0806c28f4a9f",
   "metadata": {},
   "outputs": [
    {
     "name": "stdout",
     "output_type": "stream",
     "text": [
      "7\n"
     ]
    }
   ],
   "source": [
    "#vowels calculation\n",
    "vowels='aeiouAEIOU'\n",
    "string='hi gowy how are you'\n",
    "count=sum(string.count(vowel)for vowel in vowels)\n",
    "print(count)"
   ]
  },
  {
   "cell_type": "code",
   "execution_count": 8,
   "id": "6cea5b0b-6338-4bbe-b4aa-dc017943f18d",
   "metadata": {},
   "outputs": [
    {
     "name": "stdout",
     "output_type": "stream",
     "text": [
      "ecneics ataD\n"
     ]
    }
   ],
   "source": [
    "#reversing\n",
    "str=\"Data science\"\n",
    "print(str[::-1])"
   ]
  },
  {
   "cell_type": "code",
   "execution_count": 3,
   "id": "2a35de80-bb32-4593-a6cc-a8350491f102",
   "metadata": {},
   "outputs": [
    {
     "name": "stdout",
     "output_type": "stream",
     "text": [
      "Yes it is a palindrome\n"
     ]
    }
   ],
   "source": [
    "# function which return reverse of a string\n",
    "def isPalindrome(s):\n",
    "    return s == s[::-1]\n",
    " \n",
    " \n",
    "\n",
    "s = \"malayalam\"\n",
    "ans = isPalindrome(s)\n",
    " \n",
    "if ans:\n",
    "    print(\"Yes it is a palindrome\")\n",
    "else:\n",
    "    print(\"No it is not a palindrome\")"
   ]
  },
  {
   "cell_type": "code",
   "execution_count": 12,
   "id": "05568007-8fc8-4266-bc2a-e0f7f873586e",
   "metadata": {},
   "outputs": [
    {
     "name": "stdout",
     "output_type": "stream",
     "text": [
      "staypositive\n"
     ]
    }
   ],
   "source": [
    "#string without spaces \n",
    "def removeSpaces(string):\n",
    "    string = string.replace(' ','')\n",
    "    return string\n",
    "     \n",
    "# Driver program\n",
    "string = \"sta y pos itive  \"\n",
    "print(removeSpaces(string))"
   ]
  },
  {
   "cell_type": "markdown",
   "id": "0a984955-634f-4df5-a5be-52787e0ff444",
   "metadata": {},
   "source": [
    "                     THANK YOU    "
   ]
  }
 ],
 "metadata": {
  "kernelspec": {
   "display_name": "Python 3 (ipykernel)",
   "language": "python",
   "name": "python3"
  },
  "language_info": {
   "codemirror_mode": {
    "name": "ipython",
    "version": 3
   },
   "file_extension": ".py",
   "mimetype": "text/x-python",
   "name": "python",
   "nbconvert_exporter": "python",
   "pygments_lexer": "ipython3",
   "version": "3.10.8"
  }
 },
 "nbformat": 4,
 "nbformat_minor": 5
}
